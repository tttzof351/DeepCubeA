{
 "cells": [
  {
   "cell_type": "code",
   "execution_count": 1,
   "metadata": {},
   "outputs": [],
   "source": [
    "import sys\n",
    "root_path = \"/teamspace/studios/this_studio/DeepCubeA\"\n",
    "if root_path not in sys.path:\n",
    "    sys.path.append(root_path)\n",
    "\n",
    "import torch\n",
    "import torch.nn.functional as F\n",
    "\n",
    "from utils.pytorch_models import ResnetModel\n",
    "from utils.nnet_utils import load_nnet\n",
    "from environments.cube3 import *"
   ]
  },
  {
   "cell_type": "code",
   "execution_count": 2,
   "metadata": {},
   "outputs": [],
   "source": [
    "#python ctg_approx/avi.py --env cube3 --states_per_update 500 --batch_size 50 --nnet_name cube3 --max_itrs 1201000 --loss_thresh 0.06 --back_max 30 --num_update_procs 30"
   ]
  },
  {
   "cell_type": "code",
   "execution_count": 2,
   "metadata": {},
   "outputs": [],
   "source": [
    "# !apt-get install graphviz\n",
    "# !pip install torchviz"
   ]
  },
  {
   "cell_type": "code",
   "execution_count": 3,
   "metadata": {},
   "outputs": [],
   "source": [
    "from torchviz import make_dot"
   ]
  },
  {
   "cell_type": "code",
   "execution_count": 4,
   "metadata": {},
   "outputs": [],
   "source": [
    "cube_len = 3\n",
    "state_dim: int = (cube_len ** 2) * 6\n",
    "nnet = ResnetModel(state_dim, 6, 5000, 1000, 4, 1, True)"
   ]
  },
  {
   "cell_type": "code",
   "execution_count": 5,
   "metadata": {},
   "outputs": [],
   "source": [
    "nnet = load_nnet(\n",
    "    model_file = \"/teamspace/studios/this_studio/DeepCubeA/saved_models/cube3/current/model_state_dict.pt\", \n",
    "    nnet = nnet, \n",
    "    device = torch.device(\"cpu\")\n",
    ")"
   ]
  },
  {
   "cell_type": "code",
   "execution_count": 6,
   "metadata": {},
   "outputs": [
    {
     "data": {
      "text/plain": [
       "torch.Size([1, 1])"
      ]
     },
     "execution_count": 6,
     "metadata": {},
     "output_type": "execute_result"
    }
   ],
   "source": [
    "nnet(torch.randint(low=0, high=6, size=(1, 54))).shape"
   ]
  },
  {
   "cell_type": "code",
   "execution_count": 7,
   "metadata": {},
   "outputs": [
    {
     "data": {
      "text/plain": [
       "14.663001"
      ]
     },
     "execution_count": 7,
     "metadata": {},
     "output_type": "execute_result"
    }
   ],
   "source": [
    "sum(p.numel() for p in nnet.parameters() if p.requires_grad) / 1_000_000"
   ]
  },
  {
   "cell_type": "code",
   "execution_count": 8,
   "metadata": {},
   "outputs": [
    {
     "data": {
      "text/plain": [
       "ResnetModel(\n",
       "  (blocks): ModuleList(\n",
       "    (0-3): 4 x ModuleList(\n",
       "      (0): Linear(in_features=1000, out_features=1000, bias=True)\n",
       "      (1): BatchNorm1d(1000, eps=1e-05, momentum=0.1, affine=True, track_running_stats=True)\n",
       "      (2): Linear(in_features=1000, out_features=1000, bias=True)\n",
       "      (3): BatchNorm1d(1000, eps=1e-05, momentum=0.1, affine=True, track_running_stats=True)\n",
       "    )\n",
       "  )\n",
       "  (fc1): Linear(in_features=324, out_features=5000, bias=True)\n",
       "  (bn1): BatchNorm1d(5000, eps=1e-05, momentum=0.1, affine=True, track_running_stats=True)\n",
       "  (fc2): Linear(in_features=5000, out_features=1000, bias=True)\n",
       "  (bn2): BatchNorm1d(1000, eps=1e-05, momentum=0.1, affine=True, track_running_stats=True)\n",
       "  (fc_out): Linear(in_features=1000, out_features=1, bias=True)\n",
       ")"
      ]
     },
     "execution_count": 8,
     "metadata": {},
     "output_type": "execute_result"
    }
   ],
   "source": [
    "nnet"
   ]
  },
  {
   "cell_type": "code",
   "execution_count": 12,
   "metadata": {},
   "outputs": [
    {
     "data": {
      "text/plain": [
       "array([0, 0, 0, 0, 0, 0, 0, 0, 0, 1, 1, 1, 1, 1, 1, 1, 1, 1, 2, 2, 2, 2,\n",
       "       2, 2, 2, 2, 2, 3, 3, 3, 3, 3, 3, 3, 3, 3, 4, 4, 4, 4, 4, 4, 4, 4,\n",
       "       4, 5, 5, 5, 5, 5, 5, 5, 5, 5], dtype=int8)"
      ]
     },
     "execution_count": 12,
     "metadata": {},
     "output_type": "execute_result"
    }
   ],
   "source": [
    "(np.arange(0, 54) / 9).astype(np.int8)"
   ]
  },
  {
   "cell_type": "code",
   "execution_count": 13,
   "metadata": {},
   "outputs": [
    {
     "data": {
      "text/plain": [
       "324"
      ]
     },
     "execution_count": 13,
     "metadata": {},
     "output_type": "execute_result"
    }
   ],
   "source": [
    "54 * 6"
   ]
  },
  {
   "cell_type": "code",
   "execution_count": 14,
   "metadata": {},
   "outputs": [
    {
     "data": {
      "text/plain": [
       "array([ 0,  1,  2,  3,  4,  5,  6,  7,  8,  9, 10, 11, 12, 13, 14, 15, 16,\n",
       "       17, 18, 19, 20, 21, 22, 23, 24, 25, 26, 27, 28, 29, 30, 31, 32, 33,\n",
       "       34, 35, 36, 37, 38, 39, 40, 41, 42, 43, 44, 45, 46, 47, 48, 49, 50,\n",
       "       51, 52, 53], dtype=int8)"
      ]
     },
     "execution_count": 14,
     "metadata": {},
     "output_type": "execute_result"
    }
   ],
   "source": [
    "(np.arange(0, 54)).astype(np.int8)"
   ]
  },
  {
   "cell_type": "code",
   "execution_count": 108,
   "metadata": {},
   "outputs": [],
   "source": [
    "# # with torch.no_grad():\n",
    "# make_dot(\n",
    "#     nnet(torch.randint(low=0, high=6, size=(1, 54))), \n",
    "#     params=dict(nnet.named_parameters()),\n",
    "#     show_attrs=True, \n",
    "#     show_saved=True\n",
    "# )"
   ]
  },
  {
   "cell_type": "markdown",
   "metadata": {},
   "source": [
    "## Cube3 Env"
   ]
  },
  {
   "cell_type": "code",
   "execution_count": 2,
   "metadata": {},
   "outputs": [],
   "source": [
    "env = Cube3()"
   ]
  },
  {
   "cell_type": "code",
   "execution_count": 8,
   "metadata": {},
   "outputs": [],
   "source": [
    "states_itr, scramble_nums = env.generate_states(10, (0, 5))"
   ]
  },
  {
   "cell_type": "code",
   "execution_count": 17,
   "metadata": {},
   "outputs": [
    {
     "data": {
      "text/plain": [
       "[3, 0, 3, 5, 3, 3, 1, 1, 1, 4]"
      ]
     },
     "execution_count": 17,
     "metadata": {},
     "output_type": "execute_result"
    }
   ],
   "source": [
    "scramble_nums"
   ]
  },
  {
   "cell_type": "code",
   "execution_count": 13,
   "metadata": {},
   "outputs": [
    {
     "data": {
      "text/plain": [
       "array([ 6,  3,  0, 30,  4,  1, 33,  5,  2,  9, 10, 17, 12, 13, 25, 38, 37,\n",
       "       24, 18, 19, 47, 21, 22, 50, 51, 52, 53, 11, 14, 36, 34, 31, 41, 35,\n",
       "       32, 44,  8,  7, 20, 39, 40, 23, 42, 43, 26, 27, 28, 29, 46, 49, 16,\n",
       "       45, 48, 15], dtype=uint8)"
      ]
     },
     "execution_count": 13,
     "metadata": {},
     "output_type": "execute_result"
    }
   ],
   "source": [
    "states_itr[4].colors"
   ]
  },
  {
   "cell_type": "code",
   "execution_count": 14,
   "metadata": {},
   "outputs": [
    {
     "data": {
      "text/plain": [
       "array([45, 46, 38,  5,  4,  3,  2,  1,  0, 53, 43, 42, 12, 13, 14, 15, 16,\n",
       "       17, 29, 32, 35, 19, 22, 25, 18, 21, 24, 27, 28, 20, 30, 31, 23, 33,\n",
       "       34, 26, 36, 37, 47, 39, 40, 50,  6,  7,  8,  9, 10, 11, 48, 49, 41,\n",
       "       51, 52, 44], dtype=uint8)"
      ]
     },
     "execution_count": 14,
     "metadata": {},
     "output_type": "execute_result"
    }
   ],
   "source": [
    "states_itr[5].colors"
   ]
  },
  {
   "cell_type": "code",
   "execution_count": 9,
   "metadata": {},
   "outputs": [
    {
     "data": {
      "text/plain": [
       "[array([ 0,  1,  2,  3,  4,  5,  9, 12, 15, 11, 14, 17, 10, 13, 16,  6,  7,\n",
       "         8, 45, 19, 20, 48, 22, 23, 51, 25, 26, 35, 34, 42, 32, 31, 39, 29,\n",
       "        28, 36, 53, 52, 33, 21, 40, 41, 24, 43, 44, 27, 46, 47, 30, 49, 50,\n",
       "        38, 37, 18], dtype=uint8),\n",
       " array([ 0,  1,  2,  3,  4,  5,  6,  7,  8,  9, 10, 11, 12, 13, 14, 15, 16,\n",
       "        17, 18, 19, 20, 21, 22, 23, 24, 25, 26, 27, 28, 29, 30, 31, 32, 33,\n",
       "        34, 35, 36, 37, 38, 39, 40, 41, 42, 43, 44, 45, 46, 47, 48, 49, 50,\n",
       "        51, 52, 53], dtype=uint8),\n",
       " array([ 2,  5,  8,  1,  4,  7,  0,  3,  6,  9, 10, 11, 12, 13, 14, 15, 16,\n",
       "        17, 18, 19, 38, 21, 22, 41, 24, 25, 44, 27, 28, 47, 30, 31, 50, 33,\n",
       "        34, 53, 36, 37, 29, 39, 40, 32, 42, 43, 35, 45, 46, 20, 48, 49, 23,\n",
       "        51, 52, 26], dtype=uint8),\n",
       " array([ 0, 28, 29, 48,  4, 43, 51,  5, 42, 20, 23, 36, 46, 13, 37, 45, 12,\n",
       "        38,  2, 21, 53,  1, 22, 52, 15,  3, 26,  8, 30, 27, 39, 31, 41, 11,\n",
       "        32,  9, 24,  7, 18, 25, 40, 19, 44, 10,  6, 33, 50, 47, 34, 49, 14,\n",
       "        35, 16, 17], dtype=uint8),\n",
       " array([ 6,  3,  0, 30,  4,  1, 33,  5,  2,  9, 10, 17, 12, 13, 25, 38, 37,\n",
       "        24, 18, 19, 47, 21, 22, 50, 51, 52, 53, 11, 14, 36, 34, 31, 41, 35,\n",
       "        32, 44,  8,  7, 20, 39, 40, 23, 42, 43, 26, 27, 28, 29, 46, 49, 16,\n",
       "        45, 48, 15], dtype=uint8),\n",
       " array([45, 46, 38,  5,  4,  3,  2,  1,  0, 53, 43, 42, 12, 13, 14, 15, 16,\n",
       "        17, 29, 32, 35, 19, 22, 25, 18, 21, 24, 27, 28, 20, 30, 31, 23, 33,\n",
       "        34, 26, 36, 37, 47, 39, 40, 50,  6,  7,  8,  9, 10, 11, 48, 49, 41,\n",
       "        51, 52, 44], dtype=uint8),\n",
       " array([ 0,  1,  2,  3,  4,  5, 51, 52, 53,  9, 10, 11, 12, 13, 14, 38, 37,\n",
       "        36, 18, 19, 20, 21, 22, 23, 24, 25, 26, 33, 30, 27, 34, 31, 28, 35,\n",
       "        32, 29,  8,  7,  6, 39, 40, 41, 42, 43, 44, 45, 46, 47, 48, 49, 50,\n",
       "        15, 16, 17], dtype=uint8),\n",
       " array([29,  1,  2, 28,  4,  5, 27,  7,  8,  9, 10, 26, 12, 13, 25, 15, 16,\n",
       "        24, 18, 19, 20, 21, 22, 23,  0,  3,  6, 11, 14, 17, 30, 31, 32, 33,\n",
       "        34, 35, 36, 37, 38, 39, 40, 41, 42, 43, 44, 47, 50, 53, 46, 49, 52,\n",
       "        45, 48, 51], dtype=uint8),\n",
       " array([29,  1,  2, 28,  4,  5, 27,  7,  8,  9, 10, 26, 12, 13, 25, 15, 16,\n",
       "        24, 18, 19, 20, 21, 22, 23,  0,  3,  6, 11, 14, 17, 30, 31, 32, 33,\n",
       "        34, 35, 36, 37, 38, 39, 40, 41, 42, 43, 44, 47, 50, 53, 46, 49, 52,\n",
       "        45, 48, 51], dtype=uint8),\n",
       " array([15, 12,  9,  1,  4, 52,  0,  3, 51,  2, 10, 11, 32, 13, 14, 29, 41,\n",
       "        38, 44, 34, 42, 21, 22, 39, 24, 25, 36,  8, 30, 47,  5, 31, 50, 53,\n",
       "        19, 17,  6, 43, 27,  7, 40, 28, 20, 37, 18, 45, 46, 33, 48, 49, 23,\n",
       "        35, 16, 26], dtype=uint8)]"
      ]
     },
     "execution_count": 9,
     "metadata": {},
     "output_type": "execute_result"
    }
   ],
   "source": [
    "[it.colors for it in states_itr]"
   ]
  },
  {
   "cell_type": "code",
   "execution_count": null,
   "metadata": {},
   "outputs": [],
   "source": []
  },
  {
   "cell_type": "code",
   "execution_count": 18,
   "metadata": {},
   "outputs": [],
   "source": [
    "scrambs: List[int] = list(range(0, 5 + 1))\n",
    "num_env_moves: int = env.get_num_moves()"
   ]
  },
  {
   "cell_type": "code",
   "execution_count": 20,
   "metadata": {},
   "outputs": [
    {
     "data": {
      "text/plain": [
       "12"
      ]
     },
     "execution_count": 20,
     "metadata": {},
     "output_type": "execute_result"
    }
   ],
   "source": [
    "num_env_moves"
   ]
  },
  {
   "cell_type": "code",
   "execution_count": 21,
   "metadata": {},
   "outputs": [],
   "source": [
    "states_np: np.ndarray = env.generate_goal_states(10, np_format=True)"
   ]
  },
  {
   "cell_type": "code",
   "execution_count": 23,
   "metadata": {},
   "outputs": [],
   "source": [
    "scramble_nums: np.array = np.random.choice(scrambs, 10)\n",
    "num_back_moves: np.array = np.zeros(10)"
   ]
  },
  {
   "cell_type": "code",
   "execution_count": 25,
   "metadata": {},
   "outputs": [
    {
     "data": {
      "text/plain": [
       "array([0., 0., 0., 0., 0., 0., 0., 0., 0., 0.])"
      ]
     },
     "execution_count": 25,
     "metadata": {},
     "output_type": "execute_result"
    }
   ],
   "source": [
    "num_back_moves"
   ]
  },
  {
   "cell_type": "code",
   "execution_count": 26,
   "metadata": {},
   "outputs": [],
   "source": [
    "moves_lt = num_back_moves < scramble_nums"
   ]
  },
  {
   "cell_type": "code",
   "execution_count": 29,
   "metadata": {},
   "outputs": [],
   "source": [
    "idxs: np.ndarray = np.where(moves_lt)[0]"
   ]
  },
  {
   "cell_type": "code",
   "execution_count": 30,
   "metadata": {},
   "outputs": [
    {
     "data": {
      "text/plain": [
       "array([0, 1, 2, 3, 4, 5, 6, 7, 8, 9])"
      ]
     },
     "execution_count": 30,
     "metadata": {},
     "output_type": "execute_result"
    }
   ],
   "source": [
    "idxs"
   ]
  },
  {
   "cell_type": "code",
   "execution_count": 32,
   "metadata": {},
   "outputs": [],
   "source": [
    "subset_size: int = int(max(len(idxs) / num_env_moves, 1))"
   ]
  },
  {
   "cell_type": "code",
   "execution_count": 34,
   "metadata": {},
   "outputs": [
    {
     "data": {
      "text/plain": [
       "12"
      ]
     },
     "execution_count": 34,
     "metadata": {},
     "output_type": "execute_result"
    }
   ],
   "source": [
    "num_env_moves"
   ]
  },
  {
   "cell_type": "code",
   "execution_count": null,
   "metadata": {},
   "outputs": [],
   "source": []
  }
 ],
 "metadata": {
  "kernelspec": {
   "display_name": "cloudspace",
   "language": "python",
   "name": "python3"
  },
  "language_info": {
   "codemirror_mode": {
    "name": "ipython",
    "version": 3
   },
   "file_extension": ".py",
   "mimetype": "text/x-python",
   "name": "python",
   "nbconvert_exporter": "python",
   "pygments_lexer": "ipython3",
   "version": "3.10.10"
  }
 },
 "nbformat": 4,
 "nbformat_minor": 2
}
